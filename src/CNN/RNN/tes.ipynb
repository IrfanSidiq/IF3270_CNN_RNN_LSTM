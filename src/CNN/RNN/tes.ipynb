{
 "cells": [
  {
   "cell_type": "code",
   "execution_count": 16,
   "id": "65b061da",
   "metadata": {},
   "outputs": [
    {
     "name": "stdout",
     "output_type": "stream",
     "text": [
      ">>> Testing multi-layer model with TextVectorization: Embedding → Bidirectional(SimpleRNN) → Dense\n",
      "Ukuran Vocabulary dari TextVectorization: 14\n",
      "Vocabulary: ['', '[UNK]', np.str_('kalimat'), np.str_('untuk'), np.str_('tes'), np.str_('sederhana'), np.str_('rnn'), np.str_('pertama'), np.str_('pengujian'), np.str_('model')]...\n",
      "Input data (vectorized text) shape: (3, 7)\n",
      "Contoh input_data (sampel pertama):\n",
      "[11 13 12  2  7  0  0]\n"
     ]
    },
    {
     "data": {
      "text/html": [
       "<pre style=\"white-space:pre;overflow-x:auto;line-height:normal;font-family:Menlo,'DejaVu Sans Mono',consolas,'Courier New',monospace\"><span style=\"font-weight: bold\">Model: \"functional_23\"</span>\n",
       "</pre>\n"
      ],
      "text/plain": [
       "\u001b[1mModel: \"functional_23\"\u001b[0m\n"
      ]
     },
     "metadata": {},
     "output_type": "display_data"
    },
    {
     "data": {
      "text/html": [
       "<pre style=\"white-space:pre;overflow-x:auto;line-height:normal;font-family:Menlo,'DejaVu Sans Mono',consolas,'Courier New',monospace\">┏━━━━━━━━━━━━━━━━━━━━━━━━━━━━━━━━━━━━━━━━━━━━┳━━━━━━━━━━━━━━━━━━━━━━━━━━━━━━━━━┳━━━━━━━━━━━━━━━━━━━┓\n",
       "┃<span style=\"font-weight: bold\"> Layer (type)                               </span>┃<span style=\"font-weight: bold\"> Output Shape                    </span>┃<span style=\"font-weight: bold\">           Param # </span>┃\n",
       "┡━━━━━━━━━━━━━━━━━━━━━━━━━━━━━━━━━━━━━━━━━━━━╇━━━━━━━━━━━━━━━━━━━━━━━━━━━━━━━━━╇━━━━━━━━━━━━━━━━━━━┩\n",
       "│ keras_input_tokens (<span style=\"color: #0087ff; text-decoration-color: #0087ff\">InputLayer</span>)            │ (<span style=\"color: #00d7ff; text-decoration-color: #00d7ff\">None</span>, <span style=\"color: #00af00; text-decoration-color: #00af00\">7</span>)                       │                 <span style=\"color: #00af00; text-decoration-color: #00af00\">0</span> │\n",
       "├────────────────────────────────────────────┼─────────────────────────────────┼───────────────────┤\n",
       "│ keras_embedding (<span style=\"color: #0087ff; text-decoration-color: #0087ff\">Embedding</span>)                │ (<span style=\"color: #00d7ff; text-decoration-color: #00d7ff\">None</span>, <span style=\"color: #00af00; text-decoration-color: #00af00\">7</span>, <span style=\"color: #00af00; text-decoration-color: #00af00\">8</span>)                    │               <span style=\"color: #00af00; text-decoration-color: #00af00\">112</span> │\n",
       "├────────────────────────────────────────────┼─────────────────────────────────┼───────────────────┤\n",
       "│ keras_bidirectional (<span style=\"color: #0087ff; text-decoration-color: #0087ff\">Bidirectional</span>)        │ (<span style=\"color: #00d7ff; text-decoration-color: #00d7ff\">None</span>, <span style=\"color: #00af00; text-decoration-color: #00af00\">7</span>, <span style=\"color: #00af00; text-decoration-color: #00af00\">8</span>)                    │               <span style=\"color: #00af00; text-decoration-color: #00af00\">104</span> │\n",
       "├────────────────────────────────────────────┼─────────────────────────────────┼───────────────────┤\n",
       "│ keras_dropout (<span style=\"color: #0087ff; text-decoration-color: #0087ff\">Dropout</span>)                    │ (<span style=\"color: #00d7ff; text-decoration-color: #00d7ff\">None</span>, <span style=\"color: #00af00; text-decoration-color: #00af00\">7</span>, <span style=\"color: #00af00; text-decoration-color: #00af00\">8</span>)                    │                 <span style=\"color: #00af00; text-decoration-color: #00af00\">0</span> │\n",
       "├────────────────────────────────────────────┼─────────────────────────────────┼───────────────────┤\n",
       "│ keras_dense_output (<span style=\"color: #0087ff; text-decoration-color: #0087ff\">Dense</span>)                 │ (<span style=\"color: #00d7ff; text-decoration-color: #00d7ff\">None</span>, <span style=\"color: #00af00; text-decoration-color: #00af00\">7</span>, <span style=\"color: #00af00; text-decoration-color: #00af00\">3</span>)                    │                <span style=\"color: #00af00; text-decoration-color: #00af00\">27</span> │\n",
       "└────────────────────────────────────────────┴─────────────────────────────────┴───────────────────┘\n",
       "</pre>\n"
      ],
      "text/plain": [
       "┏━━━━━━━━━━━━━━━━━━━━━━━━━━━━━━━━━━━━━━━━━━━━┳━━━━━━━━━━━━━━━━━━━━━━━━━━━━━━━━━┳━━━━━━━━━━━━━━━━━━━┓\n",
       "┃\u001b[1m \u001b[0m\u001b[1mLayer (type)                              \u001b[0m\u001b[1m \u001b[0m┃\u001b[1m \u001b[0m\u001b[1mOutput Shape                   \u001b[0m\u001b[1m \u001b[0m┃\u001b[1m \u001b[0m\u001b[1m          Param #\u001b[0m\u001b[1m \u001b[0m┃\n",
       "┡━━━━━━━━━━━━━━━━━━━━━━━━━━━━━━━━━━━━━━━━━━━━╇━━━━━━━━━━━━━━━━━━━━━━━━━━━━━━━━━╇━━━━━━━━━━━━━━━━━━━┩\n",
       "│ keras_input_tokens (\u001b[38;5;33mInputLayer\u001b[0m)            │ (\u001b[38;5;45mNone\u001b[0m, \u001b[38;5;34m7\u001b[0m)                       │                 \u001b[38;5;34m0\u001b[0m │\n",
       "├────────────────────────────────────────────┼─────────────────────────────────┼───────────────────┤\n",
       "│ keras_embedding (\u001b[38;5;33mEmbedding\u001b[0m)                │ (\u001b[38;5;45mNone\u001b[0m, \u001b[38;5;34m7\u001b[0m, \u001b[38;5;34m8\u001b[0m)                    │               \u001b[38;5;34m112\u001b[0m │\n",
       "├────────────────────────────────────────────┼─────────────────────────────────┼───────────────────┤\n",
       "│ keras_bidirectional (\u001b[38;5;33mBidirectional\u001b[0m)        │ (\u001b[38;5;45mNone\u001b[0m, \u001b[38;5;34m7\u001b[0m, \u001b[38;5;34m8\u001b[0m)                    │               \u001b[38;5;34m104\u001b[0m │\n",
       "├────────────────────────────────────────────┼─────────────────────────────────┼───────────────────┤\n",
       "│ keras_dropout (\u001b[38;5;33mDropout\u001b[0m)                    │ (\u001b[38;5;45mNone\u001b[0m, \u001b[38;5;34m7\u001b[0m, \u001b[38;5;34m8\u001b[0m)                    │                 \u001b[38;5;34m0\u001b[0m │\n",
       "├────────────────────────────────────────────┼─────────────────────────────────┼───────────────────┤\n",
       "│ keras_dense_output (\u001b[38;5;33mDense\u001b[0m)                 │ (\u001b[38;5;45mNone\u001b[0m, \u001b[38;5;34m7\u001b[0m, \u001b[38;5;34m3\u001b[0m)                    │                \u001b[38;5;34m27\u001b[0m │\n",
       "└────────────────────────────────────────────┴─────────────────────────────────┴───────────────────┘\n"
      ]
     },
     "metadata": {},
     "output_type": "display_data"
    },
    {
     "data": {
      "text/html": [
       "<pre style=\"white-space:pre;overflow-x:auto;line-height:normal;font-family:Menlo,'DejaVu Sans Mono',consolas,'Courier New',monospace\"><span style=\"font-weight: bold\"> Total params: </span><span style=\"color: #00af00; text-decoration-color: #00af00\">243</span> (972.00 B)\n",
       "</pre>\n"
      ],
      "text/plain": [
       "\u001b[1m Total params: \u001b[0m\u001b[38;5;34m243\u001b[0m (972.00 B)\n"
      ]
     },
     "metadata": {},
     "output_type": "display_data"
    },
    {
     "data": {
      "text/html": [
       "<pre style=\"white-space:pre;overflow-x:auto;line-height:normal;font-family:Menlo,'DejaVu Sans Mono',consolas,'Courier New',monospace\"><span style=\"font-weight: bold\"> Trainable params: </span><span style=\"color: #00af00; text-decoration-color: #00af00\">243</span> (972.00 B)\n",
       "</pre>\n"
      ],
      "text/plain": [
       "\u001b[1m Trainable params: \u001b[0m\u001b[38;5;34m243\u001b[0m (972.00 B)\n"
      ]
     },
     "metadata": {},
     "output_type": "display_data"
    },
    {
     "data": {
      "text/html": [
       "<pre style=\"white-space:pre;overflow-x:auto;line-height:normal;font-family:Menlo,'DejaVu Sans Mono',consolas,'Courier New',monospace\"><span style=\"font-weight: bold\"> Non-trainable params: </span><span style=\"color: #00af00; text-decoration-color: #00af00\">0</span> (0.00 B)\n",
       "</pre>\n"
      ],
      "text/plain": [
       "\u001b[1m Non-trainable params: \u001b[0m\u001b[38;5;34m0\u001b[0m (0.00 B)\n"
      ]
     },
     "metadata": {},
     "output_type": "display_data"
    },
    {
     "name": "stdout",
     "output_type": "stream",
     "text": [
      "Keras output shape: (3, 7, 3)\n",
      "\n",
      "Memuat bobot dari model Keras ke model custom...\n",
      "Custom output shape: (3, 7, 3)\n",
      "\n",
      "Max absolute difference: 5.96046e-08\n",
      "Mean absolute difference: 1.46646e-08\n",
      "✅ Outputs match within tolerance (atol=1e-5, rtol=1e-5).\n",
      "\n",
      "Contoh output (sampel pertama, timestep pertama):\n",
      "Keras : [0.3607963  0.33049548 0.30870825]\n",
      "Custom: [0.36079627 0.33049545 0.30870825]\n"
     ]
    }
   ],
   "source": [
    "import numpy as np\n",
    "import tensorflow as tf\n",
    "import pandas as pd # Untuk membuat DataFrame contoh\n",
    "\n",
    "# Asumsikan rnn_layer.py berada di direktori yang sama atau dapat diimpor\n",
    "from rnn_layer import Embedding_c, SimpleRNN_c, Bidirectional_c, Dense_c, Dropout_c, Model_c\n",
    "\n",
    "\n",
    "def test_multi_layer_model_with_vectorized_input(\n",
    "    batch_size=3, # Ubah batch_size agar sesuai dengan jumlah kalimat contoh\n",
    "    output_sequence_length=7, # Panjang urutan setelah vektorisasi dan padding/truncating\n",
    "    emb_dim=8,\n",
    "    rnn_units=4,\n",
    "    num_classes=3\n",
    "):\n",
    "    print(\">>> Testing multi-layer model with TextVectorization: Embedding → Bidirectional(SimpleRNN) → Dense\")\n",
    "\n",
    "    # Set seeds for reproducibility\n",
    "    np.random.seed(42)\n",
    "    tf.random.set_seed(42)\n",
    "\n",
    "    # ======= Data Contoh dan TextVectorization =======\n",
    "    # Contoh data teks mentah\n",
    "    sample_texts = [\n",
    "        \"ini adalah contoh kalimat pertama\",\n",
    "        \"kalimat kedua untuk pengujian\",\n",
    "        \"tes model rnn sederhana\"\n",
    "    ]\n",
    "    if len(sample_texts) != batch_size:\n",
    "        print(f\"Warning: batch_size ({batch_size}) tidak sama dengan jumlah sample_texts ({len(sample_texts)}). Menyesuaikan batch_size.\")\n",
    "        batch_size = len(sample_texts)\n",
    "\n",
    "    # Inisialisasi TextVectorization layer\n",
    "    # max_tokens bisa disesuaikan, output_sequence_length menentukan 'timesteps'\n",
    "    vectorize_layer = tf.keras.layers.TextVectorization(\n",
    "        max_tokens=1000, # Ukuran vocabulary contoh\n",
    "        output_mode='int',\n",
    "        output_sequence_length=output_sequence_length\n",
    "    )\n",
    "    # Adapt vectorize_layer ke data teks contoh\n",
    "    vectorize_layer.adapt(sample_texts)\n",
    "    vocab_size_from_vectorizer = len(vectorize_layer.get_vocabulary())\n",
    "    print(f\"Ukuran Vocabulary dari TextVectorization: {vocab_size_from_vectorizer}\")\n",
    "    print(f\"Vocabulary: {vectorize_layer.get_vocabulary()[:10]}...\") # Tampilkan beberapa token\n",
    "\n",
    "    # Ubah teks mentah menjadi urutan integer (input_data)\n",
    "    # Ini akan menjadi input untuk Embedding layer di kedua model\n",
    "    input_data = vectorize_layer(sample_texts)\n",
    "    timesteps = output_sequence_length # timesteps sekarang ditentukan oleh output_sequence_length\n",
    "\n",
    "    print(f\"Input data (vectorized text) shape: {input_data.shape}\") # (batch_size, timesteps)\n",
    "    print(f\"Contoh input_data (sampel pertama):\\n{input_data[0].numpy()}\")\n",
    "\n",
    "\n",
    "    # ======= Build Keras Model =======\n",
    "    # Input shape sekarang adalah (timesteps,) karena TextVectorization sudah diterapkan sebelumnya\n",
    "    keras_input = tf.keras.Input(shape=(timesteps,), name=\"keras_input_tokens\")\n",
    "    embedding_layer_keras = tf.keras.layers.Embedding(\n",
    "        input_dim=vocab_size_from_vectorizer, # Gunakan vocab size dari vectorizer\n",
    "        output_dim=emb_dim,\n",
    "        name=\"keras_embedding\"\n",
    "    )(keras_input)\n",
    "    bidirectional_output_keras = tf.keras.layers.Bidirectional(\n",
    "    tf.keras.layers.SimpleRNN(units=rnn_units, return_sequences=True, name=\"keras_simplernn_core\"), # Beri nama pada RNN inti jika perlu\n",
    "    merge_mode='concat',\n",
    "    name=\"keras_bidirectional\"\n",
    "    )(embedding_layer_keras)\n",
    "\n",
    "    dropout_output_keras = tf.keras.layers.Dropout(0.3, name=\"keras_dropout\")(bidirectional_output_keras) # Tambahkan nama jika perlu\n",
    "\n",
    "    dense_layer_keras = tf.keras.layers.Dense(\n",
    "        units=num_classes,\n",
    "        activation='softmax',\n",
    "        name=\"keras_dense_output\"\n",
    "    )(dropout_output_keras) # Input dari dropout\n",
    "\n",
    "    keras_model = tf.keras.Model(inputs=keras_input, outputs=dense_layer_keras)\n",
    "    keras_model.summary(line_length=100) # Tampilkan summary model Keras\n",
    "\n",
    "    # Dapatkan output dari Keras model\n",
    "    # training=False penting untuk konsistensi jika ada layer seperti Dropout (meski tidak ada di sini)\n",
    "    keras_output = keras_model(input_data, training=False).numpy()\n",
    "    print(f\"Keras output shape: {keras_output.shape}\")\n",
    "\n",
    "\n",
    "    # ======= Build Custom Model =======\n",
    "    # Pastikan input_dim Embedding_c dan input_size untuk Dense_c sesuai\n",
    "    # input_size untuk SimpleRNN_c adalah emb_dim\n",
    "    # input_size untuk Dense_c setelah Bidirectional (concat) adalah rnn_units * 2\n",
    "    custom_embedding = Embedding_c(input_dim=vocab_size_from_vectorizer, output_dim=emb_dim)\n",
    "    custom_rnn = SimpleRNN_c(units=rnn_units, return_sequences=True, input_size=emb_dim)\n",
    "    custom_bidirectional = Bidirectional_c(rnn_layer=custom_rnn, merge_mode='concat')\n",
    "    # input_size untuk Dense_c setelah Bidirectional (concat) adalah rnn_units * 2\n",
    "    # Jika SimpleRNN tidak return_sequences, maka input_size Dense_c adalah rnn_units*2 (jika BiRNN) atau rnn_units (jika SimpleRNN biasa)\n",
    "    # Karena SimpleRNN_c di dalam Bidirectional_c di-set return_sequences=True,\n",
    "    # dan Dense_c akan diterapkan ke setiap timestep, input_size-nya adalah output feature dari BiRNN.\n",
    "    custom_dropout = Dropout_c(0.3)\n",
    "    custom_dense = Dense_c(units=num_classes, activation_function='softmax', input_size=rnn_units * 2)\n",
    "\n",
    "\n",
    "    custom_model = Model_c([\n",
    "        custom_embedding,\n",
    "        custom_bidirectional,\n",
    "        custom_dropout,\n",
    "        custom_dense\n",
    "    ])\n",
    "\n",
    "    # Load weights from Keras\n",
    "    # Model_c.load_weights_from_keras_model akan mengambil bobot dari instance keras_model\n",
    "    print(\"\\nMemuat bobot dari model Keras ke model custom...\")\n",
    "    custom_model.load_weights_from_keras_model(keras_model)\n",
    "\n",
    "    # Run custom model\n",
    "    # training=False juga bisa ditambahkan jika Model_c Anda mendukungnya (misal untuk Dropout_c)\n",
    "    custom_output = custom_model.predict(input_data, training=False) # Diasumsikan training=False adalah default atau diabaikan jika tidak ada Dropout\n",
    "    print(f\"Custom output shape: {custom_output.shape}\")\n",
    "\n",
    "\n",
    "    # ======= Compare Outputs =======\n",
    "    # Output Keras dan Custom akan memiliki shape (batch_size, timesteps, num_classes)\n",
    "    # karena SimpleRNN memiliki return_sequences=True dan Dense diterapkan per timestep.\n",
    "    max_abs_diff = np.abs(keras_output - custom_output).max()\n",
    "    mean_abs_diff = np.abs(keras_output - custom_output).mean()\n",
    "\n",
    "    print(f\"\\nMax absolute difference: {max_abs_diff:.6g}\")\n",
    "    print(f\"Mean absolute difference: {mean_abs_diff:.6g}\")\n",
    "\n",
    "    # Toleransi mungkin perlu disesuaikan tergantung presisi implementasi\n",
    "    # Dengan seed yang sama dan transfer bobot, idealnya perbedaan sangat kecil.\n",
    "    if np.allclose(keras_output, custom_output, atol=1e-5, rtol=1e-5):\n",
    "        print(\"✅ Outputs match within tolerance (atol=1e-5, rtol=1e-5).\")\n",
    "        if batch_size > 0 and timesteps > 0:\n",
    "            print(\"\\nContoh output (sampel pertama, timestep pertama):\")\n",
    "            print(f\"Keras : {keras_output[0, 0, :]}\")\n",
    "            print(f\"Custom: {custom_output[0, 0, :]}\")\n",
    "    else:\n",
    "        print(\"❌ Outputs do NOT match within the specified tolerance!\")\n",
    "        if batch_size > 0:\n",
    "            print(\"\\nKeras output (sampel pertama):\\n\", keras_output[0])\n",
    "            print(\"\\nCustom output (sampel pertama):\\n\", custom_output[0])\n",
    "        else:\n",
    "            print(\"\\nKeras output:\\n\", keras_output)\n",
    "            print(\"\\nCustom output:\\n\", custom_output)\n",
    "        print(\"\\nCATATAN: Jika perbedaan sangat kecil (misalnya e-7 atau e-8), ini mungkin karena presisi floating point.\")\n",
    "        print(\"Jika perbedaan lebih besar, periksa kembali implementasi layer custom atau proses pemuatan bobot.\")\n",
    "\n",
    "    return max_abs_diff\n",
    "\n",
    "\n",
    "# Run test\n",
    "if __name__ == \"__main__\":\n",
    "    test_multi_layer_model_with_vectorized_input()\n"
   ]
  }
 ],
 "metadata": {
  "kernelspec": {
   "display_name": "Python 3",
   "language": "python",
   "name": "python3"
  },
  "language_info": {
   "codemirror_mode": {
    "name": "ipython",
    "version": 3
   },
   "file_extension": ".py",
   "mimetype": "text/x-python",
   "name": "python",
   "nbconvert_exporter": "python",
   "pygments_lexer": "ipython3",
   "version": "3.12.6"
  }
 },
 "nbformat": 4,
 "nbformat_minor": 5
}
